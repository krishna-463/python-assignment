{
  "nbformat": 4,
  "nbformat_minor": 0,
  "metadata": {
    "colab": {
      "name": "pyhon.ipynb",
      "provenance": [],
      "collapsed_sections": []
    },
    "kernelspec": {
      "name": "python3",
      "display_name": "Python 3"
    },
    "language_info": {
      "name": "python"
    }
  },
  "cells": [
    {
      "cell_type": "code",
      "execution_count": null,
      "metadata": {
        "colab": {
          "base_uri": "https://localhost:8080/"
        },
        "id": "PqoqfI_nUtAI",
        "outputId": "8a74c1fe-3a82-48fe-8b53-d514aaa444c9"
      },
      "outputs": [
        {
          "output_type": "stream",
          "name": "stdout",
          "text": [
            "M Vamshi krishna Reddy\n"
          ]
        }
      ],
      "source": [
        "#question1\n",
        "print(\"M Vamshi krishna Reddy\")"
      ]
    },
    {
      "cell_type": "code",
      "source": [
        "#question2\n",
        "print('single line comment') #single line comment\n",
        "\"\"\"printing multiline\n",
        "comment\"\"\"\n",
        "print(\"multiline comment\")"
      ],
      "metadata": {
        "colab": {
          "base_uri": "https://localhost:8080/"
        },
        "id": "qw6GiTPDU340",
        "outputId": "604fef22-69b6-4fe5-9bab-19d22604f078"
      },
      "execution_count": null,
      "outputs": [
        {
          "output_type": "stream",
          "name": "stdout",
          "text": [
            "single line comment\n",
            "multiline comment\n"
          ]
        }
      ]
    },
    {
      "cell_type": "code",
      "source": [
        "#question 3\n",
        "x = [100,True,False,'abc',1.0]\n",
        "for i in x:\n",
        "  print(type(i))"
      ],
      "metadata": {
        "colab": {
          "base_uri": "https://localhost:8080/"
        },
        "id": "C3k2X72AVaX1",
        "outputId": "77edd922-faf8-4b58-d738-bfee65dec876"
      },
      "execution_count": null,
      "outputs": [
        {
          "output_type": "stream",
          "name": "stdout",
          "text": [
            "<class 'int'>\n",
            "<class 'bool'>\n",
            "<class 'bool'>\n",
            "<class 'str'>\n",
            "<class 'float'>\n"
          ]
        }
      ]
    },
    {
      "cell_type": "code",
      "source": [
        "#question 4\n",
        "x = \"awesome\" #global variable\n",
        "\n",
        "def myfunc():\n",
        "  x = \"fantastic\"       #local variable have scope only upto the function only\n",
        "  print(\"Python is \" + x)\n",
        "\n",
        "myfunc()\n",
        "\n",
        "print(\"Python is \" + x)\n"
      ],
      "metadata": {
        "colab": {
          "base_uri": "https://localhost:8080/"
        },
        "id": "tCfYY4YjWdF0",
        "outputId": "eee26c4e-2e0d-4d2c-f2ab-a5464d3d1f5e"
      },
      "execution_count": null,
      "outputs": [
        {
          "output_type": "stream",
          "name": "stdout",
          "text": [
            "Python is fantastic\n",
            "Python is awesome\n"
          ]
        }
      ]
    },
    {
      "cell_type": "markdown",
      "source": [
        "# **operators**"
      ],
      "metadata": {
        "id": "Kr_XI1h2bwJR"
      }
    },
    {
      "cell_type": "code",
      "source": [
        " # queston 1\n",
        " def operate(x,y):\n",
        "   print(\"addition:\",x+y)\n",
        "   print(\"subraction:\",x-y)\n",
        "   print(\"multiplication:\",x*y)\n",
        "   print(\"division:\",x/y)\n",
        "   if x==y:\n",
        "     print('given numbers are equal')\n",
        "   else:\n",
        "     print('not equal')\n",
        "   if x > y:\n",
        "     print('first number is greater than second number')\n",
        "   else:\n",
        "      print('first number is smaller than second number')\n",
        "operate(2,3)"
      ],
      "metadata": {
        "colab": {
          "base_uri": "https://localhost:8080/"
        },
        "id": "yABhPbQVXRqC",
        "outputId": "3efdc5a0-4b7f-4690-d472-0e9df392dbd0"
      },
      "execution_count": null,
      "outputs": [
        {
          "output_type": "stream",
          "name": "stdout",
          "text": [
            "addition: 5\n",
            "subraction: -1\n",
            "multiplication: 6\n",
            "division: 0.6666666666666666\n",
            "not equal\n",
            "first number is smaller than second number\n"
          ]
        }
      ]
    },
    {
      "cell_type": "markdown",
      "source": [
        "#**3 Loops**"
      ],
      "metadata": {
        "id": "wwci6HlDd2Ha"
      }
    },
    {
      "cell_type": "code",
      "source": [
        "for i in range(10):\n",
        "  print(\"Bright IT Career\")"
      ],
      "metadata": {
        "colab": {
          "base_uri": "https://localhost:8080/"
        },
        "id": "oU3CVgYTdO6D",
        "outputId": "23738195-1c20-4931-eb88-79122d76dcbd"
      },
      "execution_count": null,
      "outputs": [
        {
          "output_type": "stream",
          "name": "stdout",
          "text": [
            "Bright IT Career\n",
            "Bright IT Career\n",
            "Bright IT Career\n",
            "Bright IT Career\n",
            "Bright IT Career\n",
            "Bright IT Career\n",
            "Bright IT Career\n",
            "Bright IT Career\n",
            "Bright IT Career\n",
            "Bright IT Career\n"
          ]
        }
      ]
    },
    {
      "cell_type": "markdown",
      "source": [
        "## printing 1 to 20"
      ],
      "metadata": {
        "id": "qxG9q7dyg9IF"
      }
    },
    {
      "cell_type": "code",
      "source": [
        "i=0\n",
        "while i<=20:\n",
        "  i=i+1\n",
        "  print(i)"
      ],
      "metadata": {
        "colab": {
          "base_uri": "https://localhost:8080/"
        },
        "id": "rmszshVOeG2u",
        "outputId": "25b93eb1-9c59-4981-c424-701db3c8cd73"
      },
      "execution_count": null,
      "outputs": [
        {
          "output_type": "stream",
          "name": "stdout",
          "text": [
            "1\n",
            "2\n",
            "3\n",
            "4\n",
            "5\n",
            "6\n",
            "7\n",
            "8\n",
            "9\n",
            "10\n",
            "11\n",
            "12\n",
            "13\n",
            "14\n",
            "15\n",
            "16\n",
            "17\n",
            "18\n",
            "19\n",
            "20\n",
            "21\n"
          ]
        }
      ]
    },
    {
      "cell_type": "markdown",
      "source": [
        "## largest among 3 numbers"
      ],
      "metadata": {
        "id": "L1H9jaJvg3Sb"
      }
    },
    {
      "cell_type": "code",
      "source": [
        "x = [3,2,7]\n",
        "y=x[0]\n",
        "for i in x:\n",
        "  if y>i:\n",
        "    y=i\n",
        "print(i)"
      ],
      "metadata": {
        "colab": {
          "base_uri": "https://localhost:8080/"
        },
        "id": "z_7zQF4bfZpL",
        "outputId": "2705c2e1-22fd-406f-e65c-82e14bccdf30"
      },
      "execution_count": null,
      "outputs": [
        {
          "output_type": "stream",
          "name": "stdout",
          "text": [
            "7\n"
          ]
        }
      ]
    },
    {
      "cell_type": "markdown",
      "source": [
        "## even and odd numbers from 10 to 20"
      ],
      "metadata": {
        "id": "95vqjy-Dgw_a"
      }
    },
    {
      "cell_type": "code",
      "source": [
        "i = 10\n",
        "while(i<=20):\n",
        "  if i%2 == 0:\n",
        "    print(i,'is even')\n",
        "  else:\n",
        "    print(i,'is odd')\n",
        "  i=i+1"
      ],
      "metadata": {
        "colab": {
          "base_uri": "https://localhost:8080/"
        },
        "id": "Lt0JjftVgVF5",
        "outputId": "3cac7d46-59e4-43a5-f892-57803170d342"
      },
      "execution_count": null,
      "outputs": [
        {
          "output_type": "stream",
          "name": "stdout",
          "text": [
            "10 is even\n",
            "11 is odd\n",
            "12 is even\n",
            "13 is odd\n",
            "14 is even\n",
            "15 is odd\n",
            "16 is even\n",
            "17 is odd\n",
            "18 is even\n",
            "19 is odd\n",
            "20 is even\n"
          ]
        }
      ]
    },
    {
      "cell_type": "markdown",
      "source": [
        "## amstrong number"
      ],
      "metadata": {
        "id": "x2ciT8BOhY1d"
      }
    },
    {
      "cell_type": "code",
      "source": [
        "n=153\n",
        "s=n  \n",
        "sum1=0\n",
        "while n!=0:\n",
        "  r=n%10\n",
        "  sum1=sum1+(r*r*r)\n",
        "  n=n//10 \n",
        "if s==sum1:\n",
        "  print(\"The given number\",s,\"is armstrong number\")\n",
        "else:\n",
        "  print(\"The given number\",s,\"is not armstrong number\")"
      ],
      "metadata": {
        "colab": {
          "base_uri": "https://localhost:8080/"
        },
        "id": "-01dExn5gcQW",
        "outputId": "d1dd9199-7a79-4f8b-8d23-4ff012fd5d9e"
      },
      "execution_count": null,
      "outputs": [
        {
          "output_type": "stream",
          "name": "stdout",
          "text": [
            "The given number 153 is armstrong number\n"
          ]
        }
      ]
    },
    {
      "cell_type": "markdown",
      "source": [
        "## prime or not"
      ],
      "metadata": {
        "id": "x5nrVTRUifM-"
      }
    },
    {
      "cell_type": "code",
      "source": [
        "x = 23\n",
        "i=2\n",
        "while i<x:\n",
        "  if x%i==0:\n",
        "    print('not even')\n",
        "    break\n",
        "  else:\n",
        "    i=i+1\n",
        "if x-i==0:\n",
        "  print('even number')\n"
      ],
      "metadata": {
        "colab": {
          "base_uri": "https://localhost:8080/"
        },
        "id": "YGILHZ4ciXz2",
        "outputId": "3822d87b-6f99-4b55-e8e5-c0ead7d86271"
      },
      "execution_count": null,
      "outputs": [
        {
          "output_type": "stream",
          "name": "stdout",
          "text": [
            "even number\n"
          ]
        }
      ]
    },
    {
      "cell_type": "markdown",
      "source": [
        "## polindrome"
      ],
      "metadata": {
        "id": "CdBBl2xUj0vp"
      }
    },
    {
      "cell_type": "code",
      "source": [
        "x = 16461\n",
        "y = str(x)\n",
        "z=len(y)-1\n",
        "for i in range(0,int(z/2+1)):\n",
        "  if y[i]==y[z]:\n",
        "    z=z-1\n",
        "  else:\n",
        "    print('not polindrome')\n",
        "    break\n",
        "if i>=int(z/2):\n",
        "  print('polindrome')"
      ],
      "metadata": {
        "colab": {
          "base_uri": "https://localhost:8080/"
        },
        "id": "7cvvKYY2jDlF",
        "outputId": "aa1636f6-bb88-4892-b3b1-a9041086b38d"
      },
      "execution_count": null,
      "outputs": [
        {
          "output_type": "stream",
          "name": "stdout",
          "text": [
            "polindrome\n"
          ]
        }
      ]
    },
    {
      "cell_type": "markdown",
      "source": [
        "## Lists"
      ],
      "metadata": {
        "id": "NM1dCPohERBr"
      }
    },
    {
      "cell_type": "markdown",
      "source": [
        "####adding integers to list"
      ],
      "metadata": {
        "id": "3fmeHVLaFWs7"
      }
    },
    {
      "cell_type": "code",
      "source": [
        "x = []\n",
        "l = int(input('length'))\n",
        "for i in range(0,l):\n",
        "  x.append(int(input()))\n",
        "print(x)\n"
      ],
      "metadata": {
        "colab": {
          "base_uri": "https://localhost:8080/"
        },
        "id": "jDgdkutqEfRP",
        "outputId": "4980e11a-93a0-4c45-d9c1-00ac3b459e8b"
      },
      "execution_count": null,
      "outputs": [
        {
          "output_type": "stream",
          "name": "stdout",
          "text": [
            "length4\n",
            "1\n",
            "2\n",
            "3\n",
            "4\n",
            "[1, 2, 3, 4]\n"
          ]
        }
      ]
    },
    {
      "cell_type": "markdown",
      "source": [
        "###average of list"
      ],
      "metadata": {
        "id": "ro54uMGTFcfm"
      }
    },
    {
      "cell_type": "code",
      "source": [
        "y=0\n",
        "for i in x:\n",
        "  y=y+i\n",
        "y=y/l\n",
        "print(y)"
      ],
      "metadata": {
        "colab": {
          "base_uri": "https://localhost:8080/"
        },
        "id": "cYws7lo-FAO0",
        "outputId": "0988acfc-a686-411b-dfbe-16f48ef46602"
      },
      "execution_count": null,
      "outputs": [
        {
          "output_type": "stream",
          "name": "stdout",
          "text": [
            "2.5\n"
          ]
        }
      ]
    },
    {
      "cell_type": "markdown",
      "source": [
        "### index of given number"
      ],
      "metadata": {
        "id": "qGPROghDFuRL"
      }
    },
    {
      "cell_type": "code",
      "source": [
        "a = 3\n",
        "for i in range(0,l):\n",
        "  if a==x[i]:\n",
        "    print('index:',i)\n",
        "    break\n",
        "  \n"
      ],
      "metadata": {
        "colab": {
          "base_uri": "https://localhost:8080/"
        },
        "id": "ceBrO0gpFfjn",
        "outputId": "882980bd-85b8-4bc2-949e-489662bf939a"
      },
      "execution_count": null,
      "outputs": [
        {
          "output_type": "stream",
          "name": "stdout",
          "text": [
            "index: 2\n"
          ]
        }
      ]
    },
    {
      "cell_type": "markdown",
      "source": [
        "##copying of arrays"
      ],
      "metadata": {
        "id": "zxqEyM18G6I5"
      }
    },
    {
      "cell_type": "code",
      "source": [
        "x = [1,2,3,4,5]\n",
        "y = [6,7,8,9,0]\n",
        "def cop(a,b):\n",
        "  c=a+b\n",
        "  print(c)\n",
        "cop(x,y)"
      ],
      "metadata": {
        "colab": {
          "base_uri": "https://localhost:8080/"
        },
        "id": "OwjEi-iIGJUP",
        "outputId": "424bf68b-8a0b-4444-d7e3-50c0ec30dbf1"
      },
      "execution_count": null,
      "outputs": [
        {
          "output_type": "stream",
          "name": "stdout",
          "text": [
            "[1, 2, 3, 4, 5, 6, 7, 8, 9, 0]\n"
          ]
        }
      ]
    },
    {
      "cell_type": "markdown",
      "source": [
        "##insert an element at given specific postion"
      ],
      "metadata": {
        "id": "kIC0VUVBIf9K"
      }
    },
    {
      "cell_type": "code",
      "source": [
        "x = [2,5,4,12]\n",
        "def ins(b,a,pos):\n",
        "  b[pos-1]=a\n",
        "  return(b)\n",
        "y = ins(x,30,2)\n",
        "print(y)"
      ],
      "metadata": {
        "colab": {
          "base_uri": "https://localhost:8080/"
        },
        "id": "1xYJw8h3IZnW",
        "outputId": "3a0ae8f0-832f-4c14-d73d-83c83ee2f427"
      },
      "execution_count": null,
      "outputs": [
        {
          "output_type": "stream",
          "name": "stdout",
          "text": [
            "[2, 30, 4, 12]\n"
          ]
        }
      ]
    },
    {
      "cell_type": "markdown",
      "source": [
        "##maximam and minimum value of array"
      ],
      "metadata": {
        "id": "4j1kZ8I1JaqA"
      }
    },
    {
      "cell_type": "code",
      "source": [
        "x = [2,30,15,21,8,46,63]\n",
        "def minmax(a):\n",
        "  min=10000\n",
        "  max=0\n",
        "  for i in a:\n",
        "    if min>i:\n",
        "      min=i\n",
        "    elif max<i:\n",
        "      max=i\n",
        "  print('minimum:',min,'maximum:',max)\n",
        "minmax(x)\n"
      ],
      "metadata": {
        "colab": {
          "base_uri": "https://localhost:8080/"
        },
        "id": "VaLE1s7uJTGV",
        "outputId": "590ab57f-5593-4bce-d0c5-13a62218d85a"
      },
      "execution_count": null,
      "outputs": [
        {
          "output_type": "stream",
          "name": "stdout",
          "text": [
            "minimum: 2 maximum: 63\n"
          ]
        }
      ]
    },
    {
      "cell_type": "markdown",
      "source": [
        "## function to reverse array"
      ],
      "metadata": {
        "id": "B9iDPr4GK7zT"
      }
    },
    {
      "cell_type": "code",
      "source": [
        " x = [2,30,15,21,8,46,63]  #x.reverse()\n",
        "                           # y=x[::-1]\n",
        " def reverse(a):\n",
        "   i = len(a)\n",
        "   b=[]\n",
        "   for j in range(0,i):\n",
        "     b.append(a[-(j+1)])\n",
        "   print(b)\n",
        "reverse(x)"
      ],
      "metadata": {
        "colab": {
          "base_uri": "https://localhost:8080/"
        },
        "id": "5bBCTXJhKk5G",
        "outputId": "edf300c4-0131-4893-8244-5536fd73e2d1"
      },
      "execution_count": null,
      "outputs": [
        {
          "output_type": "stream",
          "name": "stdout",
          "text": [
            "[63, 46, 8, 21, 15, 30, 2]\n"
          ]
        }
      ]
    },
    {
      "cell_type": "markdown",
      "source": [
        "##to find duplicte values of list"
      ],
      "metadata": {
        "id": "kBb06XgQNe-2"
      }
    },
    {
      "cell_type": "code",
      "source": [
        "def Repeat(x):\n",
        "\t_size = len(x)\n",
        "\trepeated = []\n",
        "\tfor i in range(_size):\n",
        "\t\tk = i + 1\n",
        "\t\tfor j in range(k, _size):\n",
        "\t\t\tif x[i] == x[j] and x[i] not in repeated:\n",
        "\t\t\t\trepeated.append(x[i])\n",
        "\treturn repeated\n",
        "list1 = [10, 20, 30, 20, 20, 30, 40, 50, -20, 60, 60, -20, -20]\n",
        "print (Repeat(list1))\n",
        "\n"
      ],
      "metadata": {
        "id": "vMH1qhxbLzrx",
        "colab": {
          "base_uri": "https://localhost:8080/"
        },
        "outputId": "c6cadcf4-341e-4d67-b282-58150df471ee"
      },
      "execution_count": 1,
      "outputs": [
        {
          "output_type": "stream",
          "name": "stdout",
          "text": [
            "[20, 30, -20, 60]\n"
          ]
        }
      ]
    },
    {
      "cell_type": "markdown",
      "source": [
        "##Dictionaries"
      ],
      "metadata": {
        "id": "spbgRbRUMJlX"
      }
    },
    {
      "cell_type": "code",
      "source": [
        "Dict = {1:'Kashish', 2:'Kritika', 3:'Aastha', 4:'Vaishali', 5:'Muskan'}\n",
        "print(\"Dictionary with each item as a pair:\",Dict) "
      ],
      "metadata": {
        "colab": {
          "base_uri": "https://localhost:8080/"
        },
        "id": "-r4KxBosK3kM",
        "outputId": "b15bb83a-f8dc-4c34-a6c3-f915d5a42fcb"
      },
      "execution_count": 2,
      "outputs": [
        {
          "output_type": "stream",
          "name": "stdout",
          "text": [
            "Dictionary with each item as a pair: {1: 'Kashish', 2: 'Kritika', 3: 'Aastha', 4: 'Vaishali', 5: 'Muskan'}\n"
          ]
        }
      ]
    },
    {
      "cell_type": "code",
      "source": [
        "Dict[6] = 'Nitya'\n",
        "print(\"\\n Dictionary with new item added:\",Dict)"
      ],
      "metadata": {
        "colab": {
          "base_uri": "https://localhost:8080/"
        },
        "id": "aJXWBi3qLhEx",
        "outputId": "edc92529-b6f1-4877-e5d1-22946f3a142d"
      },
      "execution_count": 3,
      "outputs": [
        {
          "output_type": "stream",
          "name": "stdout",
          "text": [
            "\n",
            " Dictionary with new item added: {1: 'Kashish', 2: 'Kritika', 3: 'Aastha', 4: 'Vaishali', 5: 'Muskan', 6: 'Nitya'}\n"
          ]
        }
      ]
    },
    {
      "cell_type": "code",
      "source": [
        "Dict[3] = 'Navdisha'\n",
        "print(\"\\n Dictionary with updated values:\",Dict)\n",
        "print(\"\\n Accessing one value in Dictionary:\",Dict[1])"
      ],
      "metadata": {
        "colab": {
          "base_uri": "https://localhost:8080/"
        },
        "id": "dB4HJNMOLo2c",
        "outputId": "7f66b4f7-be3c-4a18-8cff-707c15ba6d65"
      },
      "execution_count": 4,
      "outputs": [
        {
          "output_type": "stream",
          "name": "stdout",
          "text": [
            "\n",
            " Dictionary with updated values: {1: 'Kashish', 2: 'Kritika', 3: 'Navdisha', 4: 'Vaishali', 5: 'Muskan', 6: 'Nitya'}\n",
            "\n",
            " Accessing one value in Dictionary: Kashish\n"
          ]
        }
      ]
    },
    {
      "cell_type": "code",
      "source": [
        "del Dict[6]\n",
        "print(\"\\n Delete a value from a Dictionary:\",Dict)"
      ],
      "metadata": {
        "colab": {
          "base_uri": "https://localhost:8080/"
        },
        "id": "9653mAApL1Gt",
        "outputId": "a3727b8b-b708-4970-c212-31dcdc54206c"
      },
      "execution_count": 5,
      "outputs": [
        {
          "output_type": "stream",
          "name": "stdout",
          "text": [
            "\n",
            " Delete a value from a Dictionary: {1: 'Kashish', 2: 'Kritika', 3: 'Navdisha', 4: 'Vaishali', 5: 'Muskan'}\n"
          ]
        }
      ]
    },
    {
      "cell_type": "code",
      "source": [
        "Dict1 = {1: 'Kashish', 2: 'Kritika',\n",
        "        3:{'Age' : 18, 'Branch' : 'CSE', 'Year' : 'Third Year'}}\n",
        "print(\"\\n Nested loop Dictionary:\",Dict1)\n",
        "\n",
        "print(\"\\n Accessing an element of a Nested Dictionary:\",Dict1[2])"
      ],
      "metadata": {
        "colab": {
          "base_uri": "https://localhost:8080/"
        },
        "id": "RT8QNHKrL9Gh",
        "outputId": "140eef8c-5a6b-4db0-8799-ccb9cead2ae7"
      },
      "execution_count": 6,
      "outputs": [
        {
          "output_type": "stream",
          "name": "stdout",
          "text": [
            "\n",
            " Nested loop Dictionary: {1: 'Kashish', 2: 'Kritika', 3: {'Age': 18, 'Branch': 'CSE', 'Year': 'Third Year'}}\n",
            "\n",
            " Accessing an element of a Nested Dictionary: Kritika\n"
          ]
        }
      ]
    },
    {
      "cell_type": "markdown",
      "source": [
        "## Files"
      ],
      "metadata": {
        "id": "ZAUN7NNHRAjm"
      }
    },
    {
      "cell_type": "code",
      "source": [
        "file1 = open(\"python.txt\",\"r\")\n",
        "data = file1.read()\n",
        "print(data)\n"
      ],
      "metadata": {
        "colab": {
          "base_uri": "https://localhost:8080/"
        },
        "id": "ETT5azY1MDN5",
        "outputId": "cd592f7e-823f-4760-bc91-090e6fb65e8e"
      },
      "execution_count": 18,
      "outputs": [
        {
          "output_type": "stream",
          "name": "stdout",
          "text": [
            "Hello! Welcome to demofile.txt\n",
            "This file is for testing purposes.\n",
            "Good Luck!\n"
          ]
        }
      ]
    },
    {
      "cell_type": "code",
      "source": [
        "file2 = open(\"python.txt\",\"w\")\n",
        "str1 = 'Python'\n",
        "file2.write(str1)"
      ],
      "metadata": {
        "colab": {
          "base_uri": "https://localhost:8080/"
        },
        "id": "kIAHPffkT-UT",
        "outputId": "71b25c67-069b-40c3-c97d-116e3e7baf13"
      },
      "execution_count": 21,
      "outputs": [
        {
          "output_type": "execute_result",
          "data": {
            "text/plain": [
              "6"
            ]
          },
          "metadata": {},
          "execution_count": 21
        }
      ]
    },
    {
      "cell_type": "code",
      "source": [
        "file3 = open(\"python.txt\",\"r\")\n",
        "dat = file3.read()\n",
        "print(data)\n"
      ],
      "metadata": {
        "colab": {
          "base_uri": "https://localhost:8080/"
        },
        "id": "HVu3QISuVToL",
        "outputId": "a6575e51-9fe9-47da-a6fb-100cab4444e0"
      },
      "execution_count": 22,
      "outputs": [
        {
          "output_type": "stream",
          "name": "stdout",
          "text": [
            "Hello! Welcome to demofile.txt\n",
            "This file is for testing purposes.\n",
            "Good Luck!\n"
          ]
        }
      ]
    },
    {
      "cell_type": "markdown",
      "source": [
        "##Static"
      ],
      "metadata": {
        "id": "0bHEp1VjWRfv"
      }
    },
    {
      "cell_type": "code",
      "source": [
        "class Python:\n",
        "# Access through class    \n",
        " staticVariable = 9 \n",
        "print(Python.staticVariable)\n",
        "\n",
        "#Change within an class\n",
        "Python.staticVariable = 12\n",
        "print(Python.staticVariable) # Gives 12\n",
        "\n",
        "#Access through an instance\n",
        "instance = Python()\n",
        "print(instance.staticVariable) # Gives 12\n",
        "\n",
        "#Change within an instance\n",
        "instance.staticVariable = 15\n",
        "print(instance.staticVariable) # Gives 15\n",
        "print(Python.staticVariable) #Gives 12"
      ],
      "metadata": {
        "colab": {
          "base_uri": "https://localhost:8080/"
        },
        "id": "ZAeNwrK5VtTL",
        "outputId": "f851a563-e613-4629-f6b8-eea69a83334b"
      },
      "execution_count": 23,
      "outputs": [
        {
          "output_type": "stream",
          "name": "stdout",
          "text": [
            "9\n",
            "12\n",
            "12\n",
            "15\n",
            "12\n"
          ]
        }
      ]
    },
    {
      "cell_type": "code",
      "source": [
        "\n",
        "class A:\n",
        "    # default constructor\n",
        "    def __init__(self):\n",
        "     self.name = \"Kashish\"\n",
        "     # a method for printing data members\n",
        "    def print_A(self):\n",
        "        print(self.name)\n",
        "# creating object of the class\n",
        "obj = A()\n",
        "# calling the instance method using the object obj\n",
        "obj.print_A()\n",
        "\n",
        "class B(A):\n",
        "    def __init__(self):\n",
        "     self.name = \"KG\"\n",
        "    def print_B(self):\n",
        "        print(self.name)\n",
        "obj1 = B()\n",
        "obj1.print_B()\n",
        "\n",
        "class C:\n",
        "    # public data member\n",
        "    name = None\n",
        "\n",
        "     # protected data members\n",
        "    _roll = None \n",
        "\n",
        "     # private data member\n",
        "    __branch = None\n",
        "\n",
        "    # constructor\n",
        "    def __init__(self,name,roll,branch):\n",
        "        self.name = name  \n",
        "        self._roll = roll\n",
        "        self.__branch = branch  \n",
        "    def dsiplayName(self):\n",
        "        print(\"Name:\",self.name)\n",
        "        # protected member function\n",
        "    def _displayRoll(self):\n",
        "         # accessing protected data members\n",
        "        print(\"Roll:\",self._roll)\n",
        "\n",
        "         # private member function \n",
        "    def __displayBranch(self):\n",
        "        # accessing private data members\n",
        "        print(\"Branch:\",self.__branch)\n",
        "\n",
        "         # public member function\n",
        "    def access__displayBranch(self):     \n",
        "          # accessing private member function\n",
        "        self.__displayBranch()\n",
        "\n",
        "class D(C):\n",
        "    def __init__(self,name, roll, branch):\n",
        "        super().__init__(name,roll, branch)\n",
        "      # public member function\n",
        "    def access_displayRoll(self):            \n",
        "         # accessing protected member functions of super class\n",
        "        self._displayRoll()\n",
        "\n",
        "# creating objects of the derived class    \n",
        "obj = D(\"Kashish\", 5 , \"CSE\")\n",
        "# calling public member functions of the class  \n",
        "obj.dsiplayName()\n",
        "obj.access_displayRoll()\n",
        "obj.access__displayBranch()      "
      ],
      "metadata": {
        "colab": {
          "base_uri": "https://localhost:8080/"
        },
        "id": "c73auJtJWMmL",
        "outputId": "918fd368-2d13-43b3-f8f2-ddb9e6946f00"
      },
      "execution_count": 24,
      "outputs": [
        {
          "output_type": "stream",
          "name": "stdout",
          "text": [
            "Kashish\n",
            "KG\n",
            "Name: Kashish\n",
            "Roll: 5\n",
            "Branch: CSE\n"
          ]
        }
      ]
    },
    {
      "cell_type": "markdown",
      "source": [
        "##Inheritance"
      ],
      "metadata": {
        "id": "cDkUBO4tW9Op"
      }
    },
    {
      "cell_type": "code",
      "source": [
        "class A():  \n",
        "    def display(dp):\n",
        "        print(\"Display Inside class A \")\n",
        " # class A show method    \n",
        "    def show(self):\n",
        "        print(\"Show Inside class A\")\n",
        "    \n",
        "# Inherited or Sub class (Note A in bracket) \n",
        "class B (A): \n",
        "    def print(pt):\n",
        "        print(\"Print Inside class B\")    \n",
        "    # class B show method\n",
        "    def show(self):\n",
        "        print(\"Show Inside class B\")\n",
        "    \n",
        "# Inherited or Sub class (Note B in bracket) \n",
        "class C (B): \n",
        "          \n",
        "    # class C show method\n",
        "    def show(self):\n",
        "        print(\"Show Inside class C \")         \n",
        "    \n",
        "# Driver code \n",
        "s = A()\n",
        "s.display()\n",
        "k= B()\n",
        "k.print()\n",
        "g = C()   \n",
        "g.show()"
      ],
      "metadata": {
        "colab": {
          "base_uri": "https://localhost:8080/"
        },
        "id": "I5psyhZlW079",
        "outputId": "58f529f8-22f4-4877-cec8-6caa8d0b29ce"
      },
      "execution_count": 25,
      "outputs": [
        {
          "output_type": "stream",
          "name": "stdout",
          "text": [
            "Display Inside class A \n",
            "Print Inside class B\n",
            "Show Inside class C \n"
          ]
        }
      ]
    },
    {
      "cell_type": "markdown",
      "source": [
        "##Abstract Classes\n"
      ],
      "metadata": {
        "id": "RDg7sWhjXiUU"
      }
    },
    {
      "cell_type": "code",
      "source": [
        "class Polygon(): #base class / super class\n",
        " \n",
        "    #@abstractmethod\n",
        "    def noofsides(self):\n",
        "        pass\n",
        " \n",
        "class Triangle(Polygon): #subclass\n",
        " \n",
        "    # overriding abstract method\n",
        "    def noofsides(self):\n",
        "        print(\"Triangle: I have 3 sides\")\n",
        " \n",
        "class Pentagon(Polygon): #subclass\n",
        " \n",
        "    # overriding abstract method\n",
        "    def noofsides(self):\n",
        "        print(\"Pentagon: I have 5 sides\")\n",
        " \n",
        "class Hexagon(Polygon): #subclass\n",
        " \n",
        "    # overriding abstract method\n",
        "    def noofsides(self):\n",
        "        print(\"Hexagon: I have 6 sides\")\n",
        " \n",
        "class Quadrilateral(Polygon): #subclass\n",
        " \n",
        "    # overriding abstract method\n",
        "    def noofsides(self):\n",
        "        print(\"Quadrilateral: I have 4 sides\")\n",
        " \n",
        "# Driver code\n",
        "# Creating the objects to call the abstract method.\n",
        "R = Triangle()\n",
        "R.noofsides()\n",
        " \n",
        "K = Quadrilateral()\n",
        "K.noofsides()\n",
        " \n",
        "R = Pentagon()\n",
        "R.noofsides()\n",
        " \n",
        "K = Hexagon()\n",
        "K.noofsides()"
      ],
      "metadata": {
        "colab": {
          "base_uri": "https://localhost:8080/"
        },
        "id": "Nhe3DBTUXIBA",
        "outputId": "289ef09f-660c-4aba-83f3-8ab99d0e9beb"
      },
      "execution_count": 28,
      "outputs": [
        {
          "output_type": "stream",
          "name": "stdout",
          "text": [
            "Triangle: I have 3 sides\n",
            "Quadrilateral: I have 4 sides\n",
            "Pentagon: I have 5 sides\n",
            "Hexagon: I have 6 sides\n"
          ]
        }
      ]
    },
    {
      "cell_type": "markdown",
      "source": [
        "## Exceptions"
      ],
      "metadata": {
        "id": "8KODF_UCYEWw"
      }
    },
    {
      "cell_type": "code",
      "source": [
        "a = [1, 2, 3]\n",
        "try:\n",
        "    print (\"Second element = \",a[1])\n",
        " \n",
        "    # Throws error since there are only 3 elements in array\n",
        "    print (\"Fourth element = \",a[3])\n",
        "    \n",
        "except:\n",
        "    print (\"An error occurred\")\n",
        "\n",
        "print()\n",
        "\n",
        "b = [3,2,1]\n",
        "try:\n",
        "    a == b\n",
        "except:\n",
        "    print(\"They are not equal\")\n",
        "else:\n",
        "    print(\"Both Equal\") \n",
        "\n",
        "print()\n",
        "\n",
        "try:\n",
        "    k = 5/0\n",
        "    print(k)\n",
        "except ZeroDivisionError:\n",
        "    print(\"Can't divide by zero\")\n",
        "finally:\n",
        "    print('This is always executed')                 "
      ],
      "metadata": {
        "colab": {
          "base_uri": "https://localhost:8080/"
        },
        "id": "Y6lUPZRXYMAo",
        "outputId": "56ef0263-f780-4839-e692-d115f184d3b1"
      },
      "execution_count": 29,
      "outputs": [
        {
          "output_type": "stream",
          "name": "stdout",
          "text": [
            "Second element =  2\n",
            "An error occurred\n",
            "\n",
            "Both Equal\n",
            "\n",
            "Can't divide by zero\n",
            "This is always executed\n"
          ]
        }
      ]
    },
    {
      "cell_type": "code",
      "source": [
        ""
      ],
      "metadata": {
        "id": "4lDpQeMVYWMm"
      },
      "execution_count": null,
      "outputs": []
    }
  ]
}